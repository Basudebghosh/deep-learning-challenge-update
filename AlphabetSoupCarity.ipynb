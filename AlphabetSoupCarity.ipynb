{
  "cells": [
    {
      "cell_type": "markdown",
      "metadata": {
        "id": "OT9k6X_0VMZs"
      },
      "source": [
        "## Preprocessing"
      ]
    },
    {
      "cell_type": "code",
      "execution_count": 1,
      "metadata": {
        "colab": {
          "base_uri": "https://localhost:8080/",
          "height": 371
        },
        "id": "9BdW0yBVVMZz",
        "outputId": "1f6400e2-94b8-49d6-b9a8-2b1e4f29877d"
      },
      "outputs": [
        {
          "output_type": "execute_result",
          "data": {
            "text/plain": [
              "        EIN                                      NAME APPLICATION_TYPE  \\\n",
              "0  10520599              BLUE KNIGHTS MOTORCYCLE CLUB              T10   \n",
              "1  10531628    AMERICAN CHESAPEAKE CLUB CHARITABLE TR               T3   \n",
              "2  10547893        ST CLOUD PROFESSIONAL FIREFIGHTERS               T5   \n",
              "3  10553066            SOUTHSIDE ATHLETIC ASSOCIATION               T3   \n",
              "4  10556103  GENETIC RESEARCH INSTITUTE OF THE DESERT               T3   \n",
              "\n",
              "        AFFILIATION CLASSIFICATION      USE_CASE  ORGANIZATION  STATUS  \\\n",
              "0       Independent          C1000    ProductDev   Association       1   \n",
              "1       Independent          C2000  Preservation  Co-operative       1   \n",
              "2  CompanySponsored          C3000    ProductDev   Association       1   \n",
              "3  CompanySponsored          C2000  Preservation         Trust       1   \n",
              "4       Independent          C1000     Heathcare         Trust       1   \n",
              "\n",
              "      INCOME_AMT SPECIAL_CONSIDERATIONS  ASK_AMT  IS_SUCCESSFUL  \n",
              "0              0                      N     5000              1  \n",
              "1         1-9999                      N   108590              1  \n",
              "2              0                      N     5000              0  \n",
              "3    10000-24999                      N     6692              1  \n",
              "4  100000-499999                      N   142590              1  "
            ],
            "text/html": [
              "\n",
              "\n",
              "  <div id=\"df-f112f0b3-94f5-4b57-947a-5eace3a4bf23\">\n",
              "    <div class=\"colab-df-container\">\n",
              "      <div>\n",
              "<style scoped>\n",
              "    .dataframe tbody tr th:only-of-type {\n",
              "        vertical-align: middle;\n",
              "    }\n",
              "\n",
              "    .dataframe tbody tr th {\n",
              "        vertical-align: top;\n",
              "    }\n",
              "\n",
              "    .dataframe thead th {\n",
              "        text-align: right;\n",
              "    }\n",
              "</style>\n",
              "<table border=\"1\" class=\"dataframe\">\n",
              "  <thead>\n",
              "    <tr style=\"text-align: right;\">\n",
              "      <th></th>\n",
              "      <th>EIN</th>\n",
              "      <th>NAME</th>\n",
              "      <th>APPLICATION_TYPE</th>\n",
              "      <th>AFFILIATION</th>\n",
              "      <th>CLASSIFICATION</th>\n",
              "      <th>USE_CASE</th>\n",
              "      <th>ORGANIZATION</th>\n",
              "      <th>STATUS</th>\n",
              "      <th>INCOME_AMT</th>\n",
              "      <th>SPECIAL_CONSIDERATIONS</th>\n",
              "      <th>ASK_AMT</th>\n",
              "      <th>IS_SUCCESSFUL</th>\n",
              "    </tr>\n",
              "  </thead>\n",
              "  <tbody>\n",
              "    <tr>\n",
              "      <th>0</th>\n",
              "      <td>10520599</td>\n",
              "      <td>BLUE KNIGHTS MOTORCYCLE CLUB</td>\n",
              "      <td>T10</td>\n",
              "      <td>Independent</td>\n",
              "      <td>C1000</td>\n",
              "      <td>ProductDev</td>\n",
              "      <td>Association</td>\n",
              "      <td>1</td>\n",
              "      <td>0</td>\n",
              "      <td>N</td>\n",
              "      <td>5000</td>\n",
              "      <td>1</td>\n",
              "    </tr>\n",
              "    <tr>\n",
              "      <th>1</th>\n",
              "      <td>10531628</td>\n",
              "      <td>AMERICAN CHESAPEAKE CLUB CHARITABLE TR</td>\n",
              "      <td>T3</td>\n",
              "      <td>Independent</td>\n",
              "      <td>C2000</td>\n",
              "      <td>Preservation</td>\n",
              "      <td>Co-operative</td>\n",
              "      <td>1</td>\n",
              "      <td>1-9999</td>\n",
              "      <td>N</td>\n",
              "      <td>108590</td>\n",
              "      <td>1</td>\n",
              "    </tr>\n",
              "    <tr>\n",
              "      <th>2</th>\n",
              "      <td>10547893</td>\n",
              "      <td>ST CLOUD PROFESSIONAL FIREFIGHTERS</td>\n",
              "      <td>T5</td>\n",
              "      <td>CompanySponsored</td>\n",
              "      <td>C3000</td>\n",
              "      <td>ProductDev</td>\n",
              "      <td>Association</td>\n",
              "      <td>1</td>\n",
              "      <td>0</td>\n",
              "      <td>N</td>\n",
              "      <td>5000</td>\n",
              "      <td>0</td>\n",
              "    </tr>\n",
              "    <tr>\n",
              "      <th>3</th>\n",
              "      <td>10553066</td>\n",
              "      <td>SOUTHSIDE ATHLETIC ASSOCIATION</td>\n",
              "      <td>T3</td>\n",
              "      <td>CompanySponsored</td>\n",
              "      <td>C2000</td>\n",
              "      <td>Preservation</td>\n",
              "      <td>Trust</td>\n",
              "      <td>1</td>\n",
              "      <td>10000-24999</td>\n",
              "      <td>N</td>\n",
              "      <td>6692</td>\n",
              "      <td>1</td>\n",
              "    </tr>\n",
              "    <tr>\n",
              "      <th>4</th>\n",
              "      <td>10556103</td>\n",
              "      <td>GENETIC RESEARCH INSTITUTE OF THE DESERT</td>\n",
              "      <td>T3</td>\n",
              "      <td>Independent</td>\n",
              "      <td>C1000</td>\n",
              "      <td>Heathcare</td>\n",
              "      <td>Trust</td>\n",
              "      <td>1</td>\n",
              "      <td>100000-499999</td>\n",
              "      <td>N</td>\n",
              "      <td>142590</td>\n",
              "      <td>1</td>\n",
              "    </tr>\n",
              "  </tbody>\n",
              "</table>\n",
              "</div>\n",
              "      <button class=\"colab-df-convert\" onclick=\"convertToInteractive('df-f112f0b3-94f5-4b57-947a-5eace3a4bf23')\"\n",
              "              title=\"Convert this dataframe to an interactive table.\"\n",
              "              style=\"display:none;\">\n",
              "\n",
              "  <svg xmlns=\"http://www.w3.org/2000/svg\" height=\"24px\"viewBox=\"0 0 24 24\"\n",
              "       width=\"24px\">\n",
              "    <path d=\"M0 0h24v24H0V0z\" fill=\"none\"/>\n",
              "    <path d=\"M18.56 5.44l.94 2.06.94-2.06 2.06-.94-2.06-.94-.94-2.06-.94 2.06-2.06.94zm-11 1L8.5 8.5l.94-2.06 2.06-.94-2.06-.94L8.5 2.5l-.94 2.06-2.06.94zm10 10l.94 2.06.94-2.06 2.06-.94-2.06-.94-.94-2.06-.94 2.06-2.06.94z\"/><path d=\"M17.41 7.96l-1.37-1.37c-.4-.4-.92-.59-1.43-.59-.52 0-1.04.2-1.43.59L10.3 9.45l-7.72 7.72c-.78.78-.78 2.05 0 2.83L4 21.41c.39.39.9.59 1.41.59.51 0 1.02-.2 1.41-.59l7.78-7.78 2.81-2.81c.8-.78.8-2.07 0-2.86zM5.41 20L4 18.59l7.72-7.72 1.47 1.35L5.41 20z\"/>\n",
              "  </svg>\n",
              "      </button>\n",
              "\n",
              "\n",
              "\n",
              "    <div id=\"df-4fd8f3c0-8202-463b-a2bf-3603e42906ef\">\n",
              "      <button class=\"colab-df-quickchart\" onclick=\"quickchart('df-4fd8f3c0-8202-463b-a2bf-3603e42906ef')\"\n",
              "              title=\"Suggest charts.\"\n",
              "              style=\"display:none;\">\n",
              "\n",
              "<svg xmlns=\"http://www.w3.org/2000/svg\" height=\"24px\"viewBox=\"0 0 24 24\"\n",
              "     width=\"24px\">\n",
              "    <g>\n",
              "        <path d=\"M19 3H5c-1.1 0-2 .9-2 2v14c0 1.1.9 2 2 2h14c1.1 0 2-.9 2-2V5c0-1.1-.9-2-2-2zM9 17H7v-7h2v7zm4 0h-2V7h2v10zm4 0h-2v-4h2v4z\"/>\n",
              "    </g>\n",
              "</svg>\n",
              "      </button>\n",
              "    </div>\n",
              "\n",
              "<style>\n",
              "  .colab-df-quickchart {\n",
              "    background-color: #E8F0FE;\n",
              "    border: none;\n",
              "    border-radius: 50%;\n",
              "    cursor: pointer;\n",
              "    display: none;\n",
              "    fill: #1967D2;\n",
              "    height: 32px;\n",
              "    padding: 0 0 0 0;\n",
              "    width: 32px;\n",
              "  }\n",
              "\n",
              "  .colab-df-quickchart:hover {\n",
              "    background-color: #E2EBFA;\n",
              "    box-shadow: 0px 1px 2px rgba(60, 64, 67, 0.3), 0px 1px 3px 1px rgba(60, 64, 67, 0.15);\n",
              "    fill: #174EA6;\n",
              "  }\n",
              "\n",
              "  [theme=dark] .colab-df-quickchart {\n",
              "    background-color: #3B4455;\n",
              "    fill: #D2E3FC;\n",
              "  }\n",
              "\n",
              "  [theme=dark] .colab-df-quickchart:hover {\n",
              "    background-color: #434B5C;\n",
              "    box-shadow: 0px 1px 3px 1px rgba(0, 0, 0, 0.15);\n",
              "    filter: drop-shadow(0px 1px 2px rgba(0, 0, 0, 0.3));\n",
              "    fill: #FFFFFF;\n",
              "  }\n",
              "</style>\n",
              "\n",
              "    <script>\n",
              "      async function quickchart(key) {\n",
              "        const containerElement = document.querySelector('#' + key);\n",
              "        const charts = await google.colab.kernel.invokeFunction(\n",
              "            'suggestCharts', [key], {});\n",
              "      }\n",
              "    </script>\n",
              "\n",
              "      <script>\n",
              "\n",
              "function displayQuickchartButton(domScope) {\n",
              "  let quickchartButtonEl =\n",
              "    domScope.querySelector('#df-4fd8f3c0-8202-463b-a2bf-3603e42906ef button.colab-df-quickchart');\n",
              "  quickchartButtonEl.style.display =\n",
              "    google.colab.kernel.accessAllowed ? 'block' : 'none';\n",
              "}\n",
              "\n",
              "        displayQuickchartButton(document);\n",
              "      </script>\n",
              "      <style>\n",
              "    .colab-df-container {\n",
              "      display:flex;\n",
              "      flex-wrap:wrap;\n",
              "      gap: 12px;\n",
              "    }\n",
              "\n",
              "    .colab-df-convert {\n",
              "      background-color: #E8F0FE;\n",
              "      border: none;\n",
              "      border-radius: 50%;\n",
              "      cursor: pointer;\n",
              "      display: none;\n",
              "      fill: #1967D2;\n",
              "      height: 32px;\n",
              "      padding: 0 0 0 0;\n",
              "      width: 32px;\n",
              "    }\n",
              "\n",
              "    .colab-df-convert:hover {\n",
              "      background-color: #E2EBFA;\n",
              "      box-shadow: 0px 1px 2px rgba(60, 64, 67, 0.3), 0px 1px 3px 1px rgba(60, 64, 67, 0.15);\n",
              "      fill: #174EA6;\n",
              "    }\n",
              "\n",
              "    [theme=dark] .colab-df-convert {\n",
              "      background-color: #3B4455;\n",
              "      fill: #D2E3FC;\n",
              "    }\n",
              "\n",
              "    [theme=dark] .colab-df-convert:hover {\n",
              "      background-color: #434B5C;\n",
              "      box-shadow: 0px 1px 3px 1px rgba(0, 0, 0, 0.15);\n",
              "      filter: drop-shadow(0px 1px 2px rgba(0, 0, 0, 0.3));\n",
              "      fill: #FFFFFF;\n",
              "    }\n",
              "  </style>\n",
              "\n",
              "      <script>\n",
              "        const buttonEl =\n",
              "          document.querySelector('#df-f112f0b3-94f5-4b57-947a-5eace3a4bf23 button.colab-df-convert');\n",
              "        buttonEl.style.display =\n",
              "          google.colab.kernel.accessAllowed ? 'block' : 'none';\n",
              "\n",
              "        async function convertToInteractive(key) {\n",
              "          const element = document.querySelector('#df-f112f0b3-94f5-4b57-947a-5eace3a4bf23');\n",
              "          const dataTable =\n",
              "            await google.colab.kernel.invokeFunction('convertToInteractive',\n",
              "                                                     [key], {});\n",
              "          if (!dataTable) return;\n",
              "\n",
              "          const docLinkHtml = 'Like what you see? Visit the ' +\n",
              "            '<a target=\"_blank\" href=https://colab.research.google.com/notebooks/data_table.ipynb>data table notebook</a>'\n",
              "            + ' to learn more about interactive tables.';\n",
              "          element.innerHTML = '';\n",
              "          dataTable['output_type'] = 'display_data';\n",
              "          await google.colab.output.renderOutput(dataTable, element);\n",
              "          const docLink = document.createElement('div');\n",
              "          docLink.innerHTML = docLinkHtml;\n",
              "          element.appendChild(docLink);\n",
              "        }\n",
              "      </script>\n",
              "    </div>\n",
              "  </div>\n"
            ]
          },
          "metadata": {},
          "execution_count": 1
        }
      ],
      "source": [
        "# Import our dependencies\n",
        "from sklearn.model_selection import train_test_split\n",
        "from sklearn.preprocessing import StandardScaler\n",
        "import pandas as pd\n",
        "import tensorflow as tf\n",
        "\n",
        "#  Import and read the charity_data.csv.\n",
        "import pandas as pd\n",
        "#For Colab Enviornment to run file\n",
        "application_df = pd.read_csv(\"https://static.bc-edx.com/data/dla-1-2/m21/lms/starter/charity_data.csv\")\n",
        "application_df.head()\n",
        "\n",
        "# For Local Jupyter Notebook version ( please uncomment to run the file)\n",
        "#file_path = \"charity_data.csv\"\n",
        "#application_df = pd.read_csv(file_path)\n",
        "#application_df.head()"
      ]
    },
    {
      "cell_type": "code",
      "source": [
        "# To check details of the data\n",
        "print(application_df)"
      ],
      "metadata": {
        "colab": {
          "base_uri": "https://localhost:8080/"
        },
        "id": "zOEWeMY2jsJn",
        "outputId": "bedbe55c-2be5-4a4f-ce7a-a767d82284aa"
      },
      "execution_count": 4,
      "outputs": [
        {
          "output_type": "stream",
          "name": "stdout",
          "text": [
            "             EIN                                               NAME  \\\n",
            "0       10520599                       BLUE KNIGHTS MOTORCYCLE CLUB   \n",
            "1       10531628             AMERICAN CHESAPEAKE CLUB CHARITABLE TR   \n",
            "2       10547893                 ST CLOUD PROFESSIONAL FIREFIGHTERS   \n",
            "3       10553066                     SOUTHSIDE ATHLETIC ASSOCIATION   \n",
            "4       10556103           GENETIC RESEARCH INSTITUTE OF THE DESERT   \n",
            "...          ...                                                ...   \n",
            "34294  996009318              THE LIONS CLUB OF HONOLULU KAMEHAMEHA   \n",
            "34295  996010315           INTERNATIONAL ASSOCIATION OF LIONS CLUBS   \n",
            "34296  996012607                                PTA HAWAII CONGRESS   \n",
            "34297  996015768  AMERICAN FEDERATION OF GOVERNMENT EMPLOYEES LO...   \n",
            "34298  996086871                           WATERHOUSE CHARITABLE TR   \n",
            "\n",
            "      APPLICATION_TYPE       AFFILIATION CLASSIFICATION      USE_CASE  \\\n",
            "0                  T10       Independent          C1000    ProductDev   \n",
            "1                   T3       Independent          C2000  Preservation   \n",
            "2                   T5  CompanySponsored          C3000    ProductDev   \n",
            "3                   T3  CompanySponsored          C2000  Preservation   \n",
            "4                   T3       Independent          C1000     Heathcare   \n",
            "...                ...               ...            ...           ...   \n",
            "34294               T4       Independent          C1000    ProductDev   \n",
            "34295               T4  CompanySponsored          C3000    ProductDev   \n",
            "34296               T3  CompanySponsored          C2000  Preservation   \n",
            "34297               T5       Independent          C3000    ProductDev   \n",
            "34298               T3       Independent          C1000  Preservation   \n",
            "\n",
            "       ORGANIZATION  STATUS     INCOME_AMT SPECIAL_CONSIDERATIONS   ASK_AMT  \\\n",
            "0       Association       1              0                      N      5000   \n",
            "1      Co-operative       1         1-9999                      N    108590   \n",
            "2       Association       1              0                      N      5000   \n",
            "3             Trust       1    10000-24999                      N      6692   \n",
            "4             Trust       1  100000-499999                      N    142590   \n",
            "...             ...     ...            ...                    ...       ...   \n",
            "34294   Association       1              0                      N      5000   \n",
            "34295   Association       1              0                      N      5000   \n",
            "34296   Association       1              0                      N      5000   \n",
            "34297   Association       1              0                      N      5000   \n",
            "34298  Co-operative       1          1M-5M                      N  36500179   \n",
            "\n",
            "       IS_SUCCESSFUL  \n",
            "0                  1  \n",
            "1                  1  \n",
            "2                  0  \n",
            "3                  1  \n",
            "4                  1  \n",
            "...              ...  \n",
            "34294              0  \n",
            "34295              0  \n",
            "34296              0  \n",
            "34297              1  \n",
            "34298              0  \n",
            "\n",
            "[34299 rows x 12 columns]\n"
          ]
        }
      ]
    },
    {
      "cell_type": "code",
      "execution_count": 5,
      "metadata": {
        "colab": {
          "base_uri": "https://localhost:8080/"
        },
        "id": "uhSkE2lNVMZ0",
        "outputId": "ff43d58f-9c76-49f5-e0e5-fad8ec71ce91"
      },
      "outputs": [
        {
          "output_type": "stream",
          "name": "stdout",
          "text": [
            "  APPLICATION_TYPE       AFFILIATION CLASSIFICATION      USE_CASE  \\\n",
            "0              T10       Independent          C1000    ProductDev   \n",
            "1               T3       Independent          C2000  Preservation   \n",
            "2               T5  CompanySponsored          C3000    ProductDev   \n",
            "3               T3  CompanySponsored          C2000  Preservation   \n",
            "4               T3       Independent          C1000     Heathcare   \n",
            "\n",
            "   ORGANIZATION  STATUS     INCOME_AMT SPECIAL_CONSIDERATIONS  ASK_AMT  \\\n",
            "0   Association       1              0                      N     5000   \n",
            "1  Co-operative       1         1-9999                      N   108590   \n",
            "2   Association       1              0                      N     5000   \n",
            "3         Trust       1    10000-24999                      N     6692   \n",
            "4         Trust       1  100000-499999                      N   142590   \n",
            "\n",
            "   IS_SUCCESSFUL  \n",
            "0              1  \n",
            "1              1  \n",
            "2              0  \n",
            "3              1  \n",
            "4              1  \n"
          ]
        }
      ],
      "source": [
        "# Drop the non-beneficial ID columns, 'EIN' and 'NAME'.\n",
        "# Drop the 'EIN' and 'NAME' columns\n",
        "application_df.drop(['EIN', 'NAME'], axis=1, inplace=True)\n",
        "\n",
        "# Display the updated dataframe\n",
        "print(application_df.head())"
      ]
    },
    {
      "cell_type": "code",
      "execution_count": 6,
      "metadata": {
        "colab": {
          "base_uri": "https://localhost:8080/"
        },
        "id": "hUNWCExnVMZ1",
        "outputId": "7d89f168-7724-4dab-ce7b-c78a1112ea4b"
      },
      "outputs": [
        {
          "output_type": "stream",
          "name": "stdout",
          "text": [
            "APPLICATION_TYPE            17\n",
            "AFFILIATION                  6\n",
            "CLASSIFICATION              71\n",
            "USE_CASE                     5\n",
            "ORGANIZATION                 4\n",
            "STATUS                       2\n",
            "INCOME_AMT                   9\n",
            "SPECIAL_CONSIDERATIONS       2\n",
            "ASK_AMT                   8747\n",
            "IS_SUCCESSFUL                2\n",
            "dtype: int64\n"
          ]
        }
      ],
      "source": [
        "# Get the number of unique values in each column\n",
        "unique_counts = application_df.nunique()\n",
        "\n",
        "# Display the result\n",
        "print(unique_counts)\n"
      ]
    },
    {
      "cell_type": "code",
      "execution_count": 7,
      "metadata": {
        "colab": {
          "base_uri": "https://localhost:8080/"
        },
        "id": "F_xCZ80nVMZ1",
        "outputId": "abe5e291-7dc5-4bb4-cc82-b21297d82ec2"
      },
      "outputs": [
        {
          "output_type": "stream",
          "name": "stdout",
          "text": [
            "T3     27037\n",
            "T4      1542\n",
            "T6      1216\n",
            "T5      1173\n",
            "T19     1065\n",
            "T8       737\n",
            "T7       725\n",
            "T10      528\n",
            "T9       156\n",
            "T13       66\n",
            "T12       27\n",
            "T2        16\n",
            "T25        3\n",
            "T14        3\n",
            "T29        2\n",
            "T15        2\n",
            "T17        1\n",
            "Name: APPLICATION_TYPE, dtype: int64\n"
          ]
        }
      ],
      "source": [
        "# Look at APPLICATION_TYPE value counts for binning\n",
        "# Get the value counts of the 'APPLICATION_TYPE' column\n",
        "application_type_counts = application_df['APPLICATION_TYPE'].value_counts()\n",
        "\n",
        "# Display the result\n",
        "print(application_type_counts)"
      ]
    },
    {
      "cell_type": "code",
      "execution_count": 8,
      "metadata": {
        "colab": {
          "base_uri": "https://localhost:8080/"
        },
        "id": "3QHxesJyVMZ1",
        "outputId": "2512f994-b036-4ee7-a78e-f04fb5fe2459"
      },
      "outputs": [
        {
          "output_type": "stream",
          "name": "stdout",
          "text": [
            "T3       27037\n",
            "T4        1542\n",
            "T6        1216\n",
            "T5        1173\n",
            "T19       1065\n",
            "T8         737\n",
            "T7         725\n",
            "T10        528\n",
            "T9         156\n",
            "Other      120\n",
            "Name: APPLICATION_TYPE, dtype: int64\n"
          ]
        }
      ],
      "source": [
        "# Choose a cutoff value and create a list of application types to be replaced\n",
        "# use the variable name `application_types_to_replace`\n",
        "# Define the cutoff value (e.g., 100 times as shown in the previous response)\n",
        "cutoff_value = 100\n",
        "\n",
        "# Get the value counts of the 'APPLICATION_TYPE' column\n",
        "application_type_counts = application_df['APPLICATION_TYPE'].value_counts()\n",
        "\n",
        "# Create a list of application types to be replaced\n",
        "application_types_to_replace = application_type_counts[application_type_counts < cutoff_value].index.tolist()\n",
        "\n",
        "# Replace application types in the 'APPLICATION_TYPE' column with \"Other\"\n",
        "for app in application_types_to_replace:\n",
        "    application_df['APPLICATION_TYPE'] = application_df['APPLICATION_TYPE'].replace(app, \"Other\")\n",
        "\n",
        "# Check the value counts after binning\n",
        "print(application_df['APPLICATION_TYPE'].value_counts())\n"
      ]
    },
    {
      "cell_type": "code",
      "execution_count": 9,
      "metadata": {
        "colab": {
          "base_uri": "https://localhost:8080/"
        },
        "id": "SWrh36w3VMZ2",
        "outputId": "2af5ac01-ec9a-42b1-b6c1-bea934cb3e2c"
      },
      "outputs": [
        {
          "output_type": "stream",
          "name": "stdout",
          "text": [
            "C1000    17326\n",
            "C2000     6074\n",
            "C1200     4837\n",
            "C3000     1918\n",
            "C2100     1883\n",
            "         ...  \n",
            "C4120        1\n",
            "C8210        1\n",
            "C2561        1\n",
            "C4500        1\n",
            "C2150        1\n",
            "Name: CLASSIFICATION, Length: 71, dtype: int64\n"
          ]
        }
      ],
      "source": [
        "# Look at CLASSIFICATION value counts for binning\n",
        "classification_counts = application_df['CLASSIFICATION'].value_counts()\n",
        "\n",
        "# Display the result\n",
        "print(classification_counts)"
      ]
    },
    {
      "cell_type": "code",
      "execution_count": 10,
      "metadata": {
        "colab": {
          "base_uri": "https://localhost:8080/"
        },
        "id": "25g2vG-ZVMZ2",
        "outputId": "a349f4fc-f156-435c-f9b3-924a2d102a4e"
      },
      "outputs": [
        {
          "output_type": "stream",
          "name": "stdout",
          "text": [
            "C1000    17326\n",
            "C2000     6074\n",
            "C1200     4837\n",
            "C3000     1918\n",
            "C2100     1883\n",
            "C7000      777\n",
            "C1700      287\n",
            "C4000      194\n",
            "C5000      116\n",
            "C1270      114\n",
            "C2700      104\n",
            "C2800       95\n",
            "C7100       75\n",
            "C1300       58\n",
            "C1280       50\n",
            "C1230       36\n",
            "C1400       34\n",
            "C7200       32\n",
            "C2300       32\n",
            "C1240       30\n",
            "C8000       20\n",
            "C7120       18\n",
            "C1500       16\n",
            "C1800       15\n",
            "C6000       15\n",
            "C1250       14\n",
            "C8200       11\n",
            "C1238       10\n",
            "C1278       10\n",
            "C1235        9\n",
            "C1237        9\n",
            "C7210        7\n",
            "C2400        6\n",
            "C1720        6\n",
            "C4100        6\n",
            "C1257        5\n",
            "C1600        5\n",
            "C1260        3\n",
            "C2710        3\n",
            "C0           3\n",
            "C3200        2\n",
            "C1234        2\n",
            "C1246        2\n",
            "C1267        2\n",
            "C1256        2\n",
            "Name: CLASSIFICATION, dtype: int64\n"
          ]
        }
      ],
      "source": [
        "# You may find it helpful to look at CLASSIFICATION value counts >1\n",
        "# Get the value counts of the 'CLASSIFICATION' column for classes that appear more than once\n",
        "classification_counts = application_df['CLASSIFICATION'].value_counts()\n",
        "classification_counts_greater_than_one = classification_counts[classification_counts > 1]\n",
        "\n",
        "# Display the result\n",
        "print(classification_counts_greater_than_one)"
      ]
    },
    {
      "cell_type": "code",
      "execution_count": 11,
      "metadata": {
        "colab": {
          "base_uri": "https://localhost:8080/"
        },
        "id": "nwJSuX7eVMZ2",
        "outputId": "4fc01281-f527-4c7a-8dfd-ebf2b468483f"
      },
      "outputs": [
        {
          "output_type": "stream",
          "name": "stdout",
          "text": [
            "C1000    17326\n",
            "C2000     6074\n",
            "C1200     4837\n",
            "C3000     1918\n",
            "C2100     1883\n",
            "C7000      777\n",
            "Other      669\n",
            "C1700      287\n",
            "C4000      194\n",
            "C5000      116\n",
            "C1270      114\n",
            "C2700      104\n",
            "Name: CLASSIFICATION, dtype: int64\n"
          ]
        }
      ],
      "source": [
        "# Choose a cutoff value and create a list of classifications to be replaced\n",
        "# Get the value counts of the 'CLASSIFICATION' column\n",
        "classification_counts = application_df['CLASSIFICATION'].value_counts()\n",
        "\n",
        "# Determine the cutoff value (e.g., if a classification appears fewer than 100 times, we'll consider it for replacement)\n",
        "cutoff_value = 100\n",
        "\n",
        "# Create a list of classifications to be replaced\n",
        "classifications_to_replace = classification_counts[classification_counts < cutoff_value].index.tolist()\n",
        "\n",
        "# Replace classifications in the 'CLASSIFICATION' column with \"Other\"\n",
        "for cls in classifications_to_replace:\n",
        "    application_df['CLASSIFICATION'] = application_df['CLASSIFICATION'].replace(cls, \"Other\")\n",
        "\n",
        "# Check the value counts after binning\n",
        "print(application_df['CLASSIFICATION'].value_counts())\n"
      ]
    },
    {
      "cell_type": "code",
      "execution_count": 12,
      "metadata": {
        "colab": {
          "base_uri": "https://localhost:8080/"
        },
        "id": "SOhQt7jaVMZ3",
        "outputId": "3b08dc79-a8e6-4cec-e33b-73e60a84b5c7"
      },
      "outputs": [
        {
          "output_type": "stream",
          "name": "stdout",
          "text": [
            "        AFFILIATION      USE_CASE  ORGANIZATION  STATUS     INCOME_AMT  \\\n",
            "0       Independent    ProductDev   Association       1              0   \n",
            "1       Independent  Preservation  Co-operative       1         1-9999   \n",
            "2  CompanySponsored    ProductDev   Association       1              0   \n",
            "3  CompanySponsored  Preservation         Trust       1    10000-24999   \n",
            "4       Independent     Heathcare         Trust       1  100000-499999   \n",
            "\n",
            "  SPECIAL_CONSIDERATIONS  ASK_AMT  IS_SUCCESSFUL  APPLICATION_TYPE_Other  \\\n",
            "0                      N     5000              1                       0   \n",
            "1                      N   108590              1                       0   \n",
            "2                      N     5000              0                       0   \n",
            "3                      N     6692              1                       0   \n",
            "4                      N   142590              1                       0   \n",
            "\n",
            "   APPLICATION_TYPE_T10  ...  CLASSIFICATION_C1270  CLASSIFICATION_C1700  \\\n",
            "0                     1  ...                     0                     0   \n",
            "1                     0  ...                     0                     0   \n",
            "2                     0  ...                     0                     0   \n",
            "3                     0  ...                     0                     0   \n",
            "4                     0  ...                     0                     0   \n",
            "\n",
            "   CLASSIFICATION_C2000  CLASSIFICATION_C2100  CLASSIFICATION_C2700  \\\n",
            "0                     0                     0                     0   \n",
            "1                     1                     0                     0   \n",
            "2                     0                     0                     0   \n",
            "3                     1                     0                     0   \n",
            "4                     0                     0                     0   \n",
            "\n",
            "   CLASSIFICATION_C3000  CLASSIFICATION_C4000  CLASSIFICATION_C5000  \\\n",
            "0                     0                     0                     0   \n",
            "1                     0                     0                     0   \n",
            "2                     1                     0                     0   \n",
            "3                     0                     0                     0   \n",
            "4                     0                     0                     0   \n",
            "\n",
            "   CLASSIFICATION_C7000  CLASSIFICATION_Other  \n",
            "0                     0                     0  \n",
            "1                     0                     0  \n",
            "2                     0                     0  \n",
            "3                     0                     0  \n",
            "4                     0                     0  \n",
            "\n",
            "[5 rows x 30 columns]\n"
          ]
        }
      ],
      "source": [
        "# Convert categorical data to numeric with `pd.get_dummies`\n",
        "# Convert categorical data to numeric using one-hot encoding (pd.get_dummies)\n",
        "application_df = pd.get_dummies(application_df, columns=['APPLICATION_TYPE', 'CLASSIFICATION'])\n",
        "\n",
        "# Display the updated dataframe with one-hot encoded columns\n",
        "print(application_df.head())"
      ]
    },
    {
      "cell_type": "code",
      "execution_count": 13,
      "metadata": {
        "colab": {
          "base_uri": "https://localhost:8080/"
        },
        "id": "5OFCO0HuVMZ3",
        "outputId": "474f13cd-94d2-4f8c-81e5-c92179890127"
      },
      "outputs": [
        {
          "output_type": "stream",
          "name": "stdout",
          "text": [
            "X_train shape: (27439, 29)\n",
            "X_test shape: (6860, 29)\n",
            "y_train shape: (27439,)\n",
            "y_test shape: (6860,)\n"
          ]
        }
      ],
      "source": [
        "\n",
        "# Separate the features (X) and the target (y)\n",
        "X = application_df.drop(columns=['IS_SUCCESSFUL'])\n",
        "y = application_df['IS_SUCCESSFUL']\n",
        "\n",
        "# Split the data into training and testing sets\n",
        "# The test_size parameter specifies the proportion of the data to be used for testing (e.g., 0.2 for 20%)\n",
        "# The random_state parameter ensures reproducibility of the split (use any value or set to None for random split)\n",
        "X_train, X_test, y_train, y_test = train_test_split(X, y, test_size=0.2, random_state=42)\n",
        "\n",
        "# Display the shapes of the resulting arrays\n",
        "print(\"X_train shape:\", X_train.shape)\n",
        "print(\"X_test shape:\", X_test.shape)\n",
        "print(\"y_train shape:\", y_train.shape)\n",
        "print(\"y_test shape:\", y_test.shape)\n",
        "\n"
      ]
    },
    {
      "cell_type": "code",
      "execution_count": 14,
      "metadata": {
        "id": "7BH6oX2DVMZ3"
      },
      "outputs": [],
      "source": [
        "# Filter out non-numeric columns (e.g., 'ORGANIZATION_STATUS' might be a non-numeric column)\n",
        "numeric_columns = X_train.select_dtypes(include=['number']).columns\n",
        "\n",
        "# Create a StandardScaler instance\n",
        "scaler = StandardScaler()\n",
        "\n",
        "# Fit the StandardScaler to the training data\n",
        "X_scaler = scaler.fit(X_train[numeric_columns])\n",
        "\n",
        "# Scale the numeric features (X_train and X_test)\n",
        "X_train_scaled = pd.DataFrame(X_scaler.transform(X_train[numeric_columns]), columns=numeric_columns)\n",
        "X_test_scaled = pd.DataFrame(X_scaler.transform(X_test[numeric_columns]), columns=numeric_columns)\n"
      ]
    },
    {
      "cell_type": "code",
      "source": [
        "\n",
        "# Define the number of input features\n",
        "input_features = X_train_scaled.shape[1]  # Number of columns in X_train_scaled\n",
        "\n",
        "# Initialize the Sequential model\n",
        "nn = tf.keras.models.Sequential()\n",
        "\n",
        "# First hidden layer\n",
        "nn.add(tf.keras.layers.Dense(units=80, activation='relu', input_dim=input_features))\n",
        "\n",
        "# Second hidden layer\n",
        "nn.add(tf.keras.layers.Dense(units=30, activation='relu'))\n",
        "\n",
        "# Output layer\n",
        "nn.add(tf.keras.layers.Dense(units=1, activation='sigmoid'))\n",
        "\n",
        "# Check the structure of the model\n",
        "nn.summary()\n"
      ],
      "metadata": {
        "colab": {
          "base_uri": "https://localhost:8080/"
        },
        "id": "VrWn3bnvxWKW",
        "outputId": "c8ca17e9-ba64-4436-dd6b-b1c7d7baeefe"
      },
      "execution_count": 15,
      "outputs": [
        {
          "output_type": "stream",
          "name": "stdout",
          "text": [
            "Model: \"sequential\"\n",
            "_________________________________________________________________\n",
            " Layer (type)                Output Shape              Param #   \n",
            "=================================================================\n",
            " dense (Dense)               (None, 80)                2000      \n",
            "                                                                 \n",
            " dense_1 (Dense)             (None, 30)                2430      \n",
            "                                                                 \n",
            " dense_2 (Dense)             (None, 1)                 31        \n",
            "                                                                 \n",
            "=================================================================\n",
            "Total params: 4,461\n",
            "Trainable params: 4,461\n",
            "Non-trainable params: 0\n",
            "_________________________________________________________________\n"
          ]
        }
      ]
    },
    {
      "cell_type": "code",
      "source": [
        "# Compile the model\n",
        "nn.compile(loss='binary_crossentropy', optimizer='adam', metrics=['accuracy'])\n",
        "\n",
        "# Train the model with 80 epochs\n",
        "history = nn.fit(X_train_scaled, y_train, epochs=80, batch_size=32, validation_split=0.2)\n",
        "\n"
      ],
      "metadata": {
        "colab": {
          "base_uri": "https://localhost:8080/"
        },
        "id": "3L_CFYdHJaO-",
        "outputId": "4b3ef447-ac4d-41f4-d3af-d9ebafab7f31"
      },
      "execution_count": 16,
      "outputs": [
        {
          "output_type": "stream",
          "name": "stdout",
          "text": [
            "Epoch 1/80\n",
            "686/686 [==============================] - 3s 3ms/step - loss: 0.6474 - accuracy: 0.6060 - val_loss: 0.6368 - val_accuracy: 0.6192\n",
            "Epoch 2/80\n",
            "686/686 [==============================] - 2s 2ms/step - loss: 0.6423 - accuracy: 0.6126 - val_loss: 0.6370 - val_accuracy: 0.6106\n",
            "Epoch 3/80\n",
            "686/686 [==============================] - 3s 4ms/step - loss: 0.6408 - accuracy: 0.6140 - val_loss: 0.6359 - val_accuracy: 0.6186\n",
            "Epoch 4/80\n",
            "686/686 [==============================] - 2s 2ms/step - loss: 0.6407 - accuracy: 0.6146 - val_loss: 0.6355 - val_accuracy: 0.6144\n",
            "Epoch 5/80\n",
            "686/686 [==============================] - 2s 2ms/step - loss: 0.6395 - accuracy: 0.6156 - val_loss: 0.6367 - val_accuracy: 0.6228\n",
            "Epoch 6/80\n",
            "686/686 [==============================] - 2s 2ms/step - loss: 0.6395 - accuracy: 0.6178 - val_loss: 0.6364 - val_accuracy: 0.6186\n",
            "Epoch 7/80\n",
            "686/686 [==============================] - 2s 3ms/step - loss: 0.6388 - accuracy: 0.6140 - val_loss: 0.6361 - val_accuracy: 0.6201\n",
            "Epoch 8/80\n",
            "686/686 [==============================] - 2s 3ms/step - loss: 0.6389 - accuracy: 0.6152 - val_loss: 0.6367 - val_accuracy: 0.6179\n",
            "Epoch 9/80\n",
            "686/686 [==============================] - 3s 4ms/step - loss: 0.6384 - accuracy: 0.6179 - val_loss: 0.6358 - val_accuracy: 0.6228\n",
            "Epoch 10/80\n",
            "686/686 [==============================] - 2s 3ms/step - loss: 0.6383 - accuracy: 0.6156 - val_loss: 0.6341 - val_accuracy: 0.6239\n",
            "Epoch 11/80\n",
            "686/686 [==============================] - 2s 2ms/step - loss: 0.6378 - accuracy: 0.6175 - val_loss: 0.6367 - val_accuracy: 0.6228\n",
            "Epoch 12/80\n",
            "686/686 [==============================] - 2s 2ms/step - loss: 0.6383 - accuracy: 0.6162 - val_loss: 0.6357 - val_accuracy: 0.6192\n",
            "Epoch 13/80\n",
            "686/686 [==============================] - 2s 3ms/step - loss: 0.6375 - accuracy: 0.6176 - val_loss: 0.6356 - val_accuracy: 0.6232\n",
            "Epoch 14/80\n",
            "686/686 [==============================] - 2s 2ms/step - loss: 0.6375 - accuracy: 0.6162 - val_loss: 0.6347 - val_accuracy: 0.6188\n",
            "Epoch 15/80\n",
            "686/686 [==============================] - 3s 4ms/step - loss: 0.6379 - accuracy: 0.6163 - val_loss: 0.6346 - val_accuracy: 0.6239\n",
            "Epoch 16/80\n",
            "686/686 [==============================] - 3s 4ms/step - loss: 0.6371 - accuracy: 0.6169 - val_loss: 0.6352 - val_accuracy: 0.6206\n",
            "Epoch 17/80\n",
            "686/686 [==============================] - 2s 3ms/step - loss: 0.6376 - accuracy: 0.6176 - val_loss: 0.6368 - val_accuracy: 0.6188\n",
            "Epoch 18/80\n",
            "686/686 [==============================] - 2s 2ms/step - loss: 0.6373 - accuracy: 0.6159 - val_loss: 0.6366 - val_accuracy: 0.6190\n",
            "Epoch 19/80\n",
            "686/686 [==============================] - 2s 2ms/step - loss: 0.6372 - accuracy: 0.6180 - val_loss: 0.6340 - val_accuracy: 0.6199\n",
            "Epoch 20/80\n",
            "686/686 [==============================] - 2s 3ms/step - loss: 0.6375 - accuracy: 0.6176 - val_loss: 0.6368 - val_accuracy: 0.6195\n",
            "Epoch 21/80\n",
            "686/686 [==============================] - 2s 3ms/step - loss: 0.6372 - accuracy: 0.6161 - val_loss: 0.6349 - val_accuracy: 0.6203\n",
            "Epoch 22/80\n",
            "686/686 [==============================] - 2s 4ms/step - loss: 0.6370 - accuracy: 0.6181 - val_loss: 0.6368 - val_accuracy: 0.6190\n",
            "Epoch 23/80\n",
            "686/686 [==============================] - 2s 3ms/step - loss: 0.6367 - accuracy: 0.6156 - val_loss: 0.6346 - val_accuracy: 0.6210\n",
            "Epoch 24/80\n",
            "686/686 [==============================] - 2s 2ms/step - loss: 0.6370 - accuracy: 0.6171 - val_loss: 0.6355 - val_accuracy: 0.6223\n",
            "Epoch 25/80\n",
            "686/686 [==============================] - 2s 2ms/step - loss: 0.6369 - accuracy: 0.6183 - val_loss: 0.6387 - val_accuracy: 0.6194\n",
            "Epoch 26/80\n",
            "686/686 [==============================] - 2s 3ms/step - loss: 0.6368 - accuracy: 0.6192 - val_loss: 0.6347 - val_accuracy: 0.6212\n",
            "Epoch 27/80\n",
            "686/686 [==============================] - 2s 3ms/step - loss: 0.6371 - accuracy: 0.6183 - val_loss: 0.6338 - val_accuracy: 0.6250\n",
            "Epoch 28/80\n",
            "686/686 [==============================] - 2s 3ms/step - loss: 0.6370 - accuracy: 0.6171 - val_loss: 0.6349 - val_accuracy: 0.6212\n",
            "Epoch 29/80\n",
            "686/686 [==============================] - 2s 4ms/step - loss: 0.6369 - accuracy: 0.6173 - val_loss: 0.6345 - val_accuracy: 0.6250\n",
            "Epoch 30/80\n",
            "686/686 [==============================] - 2s 3ms/step - loss: 0.6367 - accuracy: 0.6192 - val_loss: 0.6349 - val_accuracy: 0.6206\n",
            "Epoch 31/80\n",
            "686/686 [==============================] - 2s 2ms/step - loss: 0.6366 - accuracy: 0.6186 - val_loss: 0.6340 - val_accuracy: 0.6210\n",
            "Epoch 32/80\n",
            "686/686 [==============================] - 2s 2ms/step - loss: 0.6368 - accuracy: 0.6183 - val_loss: 0.6340 - val_accuracy: 0.6255\n",
            "Epoch 33/80\n",
            "686/686 [==============================] - 2s 3ms/step - loss: 0.6365 - accuracy: 0.6157 - val_loss: 0.6340 - val_accuracy: 0.6221\n",
            "Epoch 34/80\n",
            "686/686 [==============================] - 2s 3ms/step - loss: 0.6365 - accuracy: 0.6179 - val_loss: 0.6341 - val_accuracy: 0.6212\n",
            "Epoch 35/80\n",
            "686/686 [==============================] - 2s 3ms/step - loss: 0.6363 - accuracy: 0.6195 - val_loss: 0.6359 - val_accuracy: 0.6215\n",
            "Epoch 36/80\n",
            "686/686 [==============================] - 3s 4ms/step - loss: 0.6363 - accuracy: 0.6193 - val_loss: 0.6339 - val_accuracy: 0.6223\n",
            "Epoch 37/80\n",
            "686/686 [==============================] - 2s 3ms/step - loss: 0.6364 - accuracy: 0.6191 - val_loss: 0.6348 - val_accuracy: 0.6257\n",
            "Epoch 38/80\n",
            "686/686 [==============================] - 2s 2ms/step - loss: 0.6366 - accuracy: 0.6179 - val_loss: 0.6336 - val_accuracy: 0.6261\n",
            "Epoch 39/80\n",
            "686/686 [==============================] - 2s 2ms/step - loss: 0.6364 - accuracy: 0.6194 - val_loss: 0.6335 - val_accuracy: 0.6263\n",
            "Epoch 40/80\n",
            "686/686 [==============================] - 2s 3ms/step - loss: 0.6363 - accuracy: 0.6194 - val_loss: 0.6351 - val_accuracy: 0.6224\n",
            "Epoch 41/80\n",
            "686/686 [==============================] - 2s 2ms/step - loss: 0.6362 - accuracy: 0.6170 - val_loss: 0.6336 - val_accuracy: 0.6223\n",
            "Epoch 42/80\n",
            "686/686 [==============================] - 2s 2ms/step - loss: 0.6362 - accuracy: 0.6199 - val_loss: 0.6350 - val_accuracy: 0.6219\n",
            "Epoch 43/80\n",
            "686/686 [==============================] - 3s 4ms/step - loss: 0.6361 - accuracy: 0.6183 - val_loss: 0.6359 - val_accuracy: 0.6224\n",
            "Epoch 44/80\n",
            "686/686 [==============================] - 2s 3ms/step - loss: 0.6361 - accuracy: 0.6194 - val_loss: 0.6351 - val_accuracy: 0.6224\n",
            "Epoch 45/80\n",
            "686/686 [==============================] - 2s 3ms/step - loss: 0.6362 - accuracy: 0.6181 - val_loss: 0.6340 - val_accuracy: 0.6223\n",
            "Epoch 46/80\n",
            "686/686 [==============================] - 2s 3ms/step - loss: 0.6358 - accuracy: 0.6190 - val_loss: 0.6351 - val_accuracy: 0.6272\n",
            "Epoch 47/80\n",
            "686/686 [==============================] - 2s 3ms/step - loss: 0.6360 - accuracy: 0.6193 - val_loss: 0.6332 - val_accuracy: 0.6223\n",
            "Epoch 48/80\n",
            "686/686 [==============================] - 2s 3ms/step - loss: 0.6363 - accuracy: 0.6208 - val_loss: 0.6337 - val_accuracy: 0.6259\n",
            "Epoch 49/80\n",
            "686/686 [==============================] - 2s 4ms/step - loss: 0.6361 - accuracy: 0.6187 - val_loss: 0.6336 - val_accuracy: 0.6259\n",
            "Epoch 50/80\n",
            "686/686 [==============================] - 2s 3ms/step - loss: 0.6358 - accuracy: 0.6183 - val_loss: 0.6329 - val_accuracy: 0.6265\n",
            "Epoch 51/80\n",
            "686/686 [==============================] - 2s 3ms/step - loss: 0.6360 - accuracy: 0.6193 - val_loss: 0.6340 - val_accuracy: 0.6221\n",
            "Epoch 52/80\n",
            "686/686 [==============================] - 2s 3ms/step - loss: 0.6360 - accuracy: 0.6200 - val_loss: 0.6334 - val_accuracy: 0.6241\n",
            "Epoch 53/80\n",
            "686/686 [==============================] - 2s 2ms/step - loss: 0.6360 - accuracy: 0.6197 - val_loss: 0.6338 - val_accuracy: 0.6243\n",
            "Epoch 54/80\n",
            "686/686 [==============================] - 2s 3ms/step - loss: 0.6359 - accuracy: 0.6201 - val_loss: 0.6334 - val_accuracy: 0.6230\n",
            "Epoch 55/80\n",
            "686/686 [==============================] - 2s 3ms/step - loss: 0.6357 - accuracy: 0.6205 - val_loss: 0.6363 - val_accuracy: 0.6235\n",
            "Epoch 56/80\n",
            "686/686 [==============================] - 2s 3ms/step - loss: 0.6357 - accuracy: 0.6204 - val_loss: 0.6345 - val_accuracy: 0.6235\n",
            "Epoch 57/80\n",
            "686/686 [==============================] - 2s 3ms/step - loss: 0.6357 - accuracy: 0.6199 - val_loss: 0.6348 - val_accuracy: 0.6230\n",
            "Epoch 58/80\n",
            "686/686 [==============================] - 2s 3ms/step - loss: 0.6356 - accuracy: 0.6208 - val_loss: 0.6327 - val_accuracy: 0.6237\n",
            "Epoch 59/80\n",
            "686/686 [==============================] - 2s 2ms/step - loss: 0.6357 - accuracy: 0.6212 - val_loss: 0.6338 - val_accuracy: 0.6235\n",
            "Epoch 60/80\n",
            "686/686 [==============================] - 2s 2ms/step - loss: 0.6355 - accuracy: 0.6211 - val_loss: 0.6332 - val_accuracy: 0.6124\n",
            "Epoch 61/80\n",
            "686/686 [==============================] - 2s 2ms/step - loss: 0.6357 - accuracy: 0.6209 - val_loss: 0.6337 - val_accuracy: 0.6265\n",
            "Epoch 62/80\n",
            "686/686 [==============================] - 2s 2ms/step - loss: 0.6356 - accuracy: 0.6211 - val_loss: 0.6334 - val_accuracy: 0.6232\n",
            "Epoch 63/80\n",
            "686/686 [==============================] - 2s 3ms/step - loss: 0.6351 - accuracy: 0.6230 - val_loss: 0.6340 - val_accuracy: 0.6237\n",
            "Epoch 64/80\n",
            "686/686 [==============================] - 2s 3ms/step - loss: 0.6353 - accuracy: 0.6214 - val_loss: 0.6351 - val_accuracy: 0.6239\n",
            "Epoch 65/80\n",
            "686/686 [==============================] - 2s 3ms/step - loss: 0.6354 - accuracy: 0.6215 - val_loss: 0.6331 - val_accuracy: 0.6245\n",
            "Epoch 66/80\n",
            "686/686 [==============================] - 2s 2ms/step - loss: 0.6352 - accuracy: 0.6221 - val_loss: 0.6350 - val_accuracy: 0.6230\n",
            "Epoch 67/80\n",
            "686/686 [==============================] - 2s 2ms/step - loss: 0.6355 - accuracy: 0.6227 - val_loss: 0.6333 - val_accuracy: 0.6277\n",
            "Epoch 68/80\n",
            "686/686 [==============================] - 2s 2ms/step - loss: 0.6352 - accuracy: 0.6224 - val_loss: 0.6353 - val_accuracy: 0.6230\n",
            "Epoch 69/80\n",
            "686/686 [==============================] - 2s 2ms/step - loss: 0.6352 - accuracy: 0.6220 - val_loss: 0.6344 - val_accuracy: 0.6243\n",
            "Epoch 70/80\n",
            "686/686 [==============================] - 3s 4ms/step - loss: 0.6351 - accuracy: 0.6233 - val_loss: 0.6342 - val_accuracy: 0.6245\n",
            "Epoch 71/80\n",
            "686/686 [==============================] - 2s 3ms/step - loss: 0.6350 - accuracy: 0.6212 - val_loss: 0.6338 - val_accuracy: 0.6237\n",
            "Epoch 72/80\n",
            "686/686 [==============================] - 2s 2ms/step - loss: 0.6350 - accuracy: 0.6233 - val_loss: 0.6333 - val_accuracy: 0.6277\n",
            "Epoch 73/80\n",
            "686/686 [==============================] - 2s 2ms/step - loss: 0.6349 - accuracy: 0.6217 - val_loss: 0.6336 - val_accuracy: 0.6237\n",
            "Epoch 74/80\n",
            "686/686 [==============================] - 2s 2ms/step - loss: 0.6350 - accuracy: 0.6238 - val_loss: 0.6335 - val_accuracy: 0.6245\n",
            "Epoch 75/80\n",
            "686/686 [==============================] - 2s 3ms/step - loss: 0.6347 - accuracy: 0.6218 - val_loss: 0.6323 - val_accuracy: 0.6255\n",
            "Epoch 76/80\n",
            "686/686 [==============================] - 2s 2ms/step - loss: 0.6348 - accuracy: 0.6222 - val_loss: 0.6336 - val_accuracy: 0.6268\n",
            "Epoch 77/80\n",
            "686/686 [==============================] - 2s 4ms/step - loss: 0.6351 - accuracy: 0.6230 - val_loss: 0.6327 - val_accuracy: 0.6257\n",
            "Epoch 78/80\n",
            "686/686 [==============================] - 2s 3ms/step - loss: 0.6348 - accuracy: 0.6216 - val_loss: 0.6332 - val_accuracy: 0.6234\n",
            "Epoch 79/80\n",
            "686/686 [==============================] - 2s 3ms/step - loss: 0.6348 - accuracy: 0.6238 - val_loss: 0.6329 - val_accuracy: 0.6235\n",
            "Epoch 80/80\n",
            "686/686 [==============================] - 2s 2ms/step - loss: 0.6349 - accuracy: 0.6233 - val_loss: 0.6338 - val_accuracy: 0.6235\n"
          ]
        }
      ]
    },
    {
      "cell_type": "markdown",
      "metadata": {
        "id": "Ui4I_E_GVMZ3"
      },
      "source": [
        "## Compile, Train and Evaluate the Model"
      ]
    },
    {
      "cell_type": "code",
      "execution_count": 17,
      "metadata": {
        "colab": {
          "base_uri": "https://localhost:8080/"
        },
        "id": "SekvJNVqVMZ4",
        "outputId": "496d5655-e5fc-4e05-bffe-8cf066e1aa35"
      },
      "outputs": [
        {
          "output_type": "stream",
          "name": "stdout",
          "text": [
            "215/215 - 0s - loss: 0.6407 - accuracy: 0.6230 - 291ms/epoch - 1ms/step\n",
            "Loss: 0.6406562328338623, Accuracy: 0.6230320930480957\n"
          ]
        }
      ],
      "source": [
        "# Evaluate the model using the test data\n",
        "model_loss, model_accuracy = nn.evaluate(X_test_scaled,y_test,verbose=2)\n",
        "print(f\"Loss: {model_loss}, Accuracy: {model_accuracy}\")"
      ]
    },
    {
      "cell_type": "code",
      "source": [
        "#Comment : Accuracy of the Charity_data for the Charity organization is 62.3 %. Even though accuracy is not great, but can be used this modelfor fund raising in some extent."
      ],
      "metadata": {
        "id": "Xdox8UWvSCmb"
      },
      "execution_count": null,
      "outputs": []
    },
    {
      "cell_type": "code",
      "execution_count": 18,
      "metadata": {
        "id": "9eg-BxYoVMZ4"
      },
      "outputs": [],
      "source": [
        "# Save the model to an HDF5 file\n",
        "model_filename = 'AlphabetSoupCharity.h5'\n",
        "nn.save(model_filename)"
      ]
    }
  ],
  "metadata": {
    "kernelspec": {
      "display_name": "Python 3 (ipykernel)",
      "language": "python",
      "name": "python3"
    },
    "language_info": {
      "codemirror_mode": {
        "name": "ipython",
        "version": 3
      },
      "file_extension": ".py",
      "mimetype": "text/x-python",
      "name": "python",
      "nbconvert_exporter": "python",
      "pygments_lexer": "ipython3",
      "version": "3.10.4"
    },
    "vscode": {
      "interpreter": {
        "hash": "31f2aee4e71d21fbe5cf8b01ff0e069b9275f58929596ceb00d14d90e3e16cd6"
      }
    },
    "colab": {
      "provenance": []
    }
  },
  "nbformat": 4,
  "nbformat_minor": 0
}